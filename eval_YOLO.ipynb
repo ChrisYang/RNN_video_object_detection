{
 "cells": [
  {
   "cell_type": "code",
   "execution_count": 1,
   "metadata": {
    "collapsed": false
   },
   "outputs": [
    {
     "data": {
      "text/plain": [
       "u'/home/subarna/my_code/theano_testing/object_detection'"
      ]
     },
     "execution_count": 1,
     "metadata": {},
     "output_type": "execute_result"
    }
   ],
   "source": [
    "%pwd\n"
   ]
  },
  {
   "cell_type": "code",
   "execution_count": 30,
   "metadata": {
    "collapsed": true
   },
   "outputs": [],
   "source": [
    "def get_data_pairs_list(training = False ):\n",
    "    import scipy.io\n",
    "    import pdb\n",
    "    import os\n",
    "    \n",
    "\n",
    "    data_pairs_list = []    \n",
    "    fl_to_featmap_index = {}  # as a dictionary so that can access by key\n",
    "    \n",
    "    count = 0 \n",
    "    cat = 0\n",
    "    base_gt_folder = 'Youtube/GroundTruth'\n",
    "    for cat_name in voc_name:\n",
    "        cat_folder = base_gt_folder + '/' + cat_name\n",
    "\n",
    "        if os.path.isdir(cat_folder) :            \n",
    "            if(training == 1):\n",
    "                gt_file_name = cat_folder + '/bb_gtTraining_' + cat_name +'.mat'  \n",
    "                gt = scipy.io.loadmat(gt_file_name, struct_as_record=True)['bb_gtTraining'] \n",
    "            else:\n",
    "                gt_file_name = cat_folder + '/bb_gtTest_' + cat_name +'.mat'\n",
    "                gt = scipy.io.loadmat(gt_file_name, struct_as_record=True)['bb_gtTest'] \n",
    "                                  \n",
    "            im_names = gt['im']\n",
    "            boxes = gt['boxes']\n",
    "            \n",
    "            for i in range(0, im_names.shape[1]):  # number of images in that category                            \n",
    "                data_pairs_list.append( {\"cat_type\" : cat_name,\n",
    "                                        \"category_num\": cat,\n",
    "                                        \"frame_num\": im_names[0,i][0][-8:],\n",
    "                                        \"boxes_num\": boxes[0,i].shape[0],\n",
    "                                        \"boxes_coord\": boxes[0,i],\n",
    "                                        \"GT_im_name\":str(im_names[0,i][0])\n",
    "                                         }\n",
    "                                      ) \n",
    "                key_name = str(im_names[0,i][0])\n",
    "                fl_to_featmap_index.update({key_name: count})     #fl_to_featmap_index.append({key_name: count}) \n",
    "                \n",
    "                count += 1\n",
    "                \n",
    "        cat += 1 \n",
    "        \n",
    "            \n",
    "    return data_pairs_list, fl_to_featmap_index\n",
    "               "
   ]
  },
  {
   "cell_type": "code",
   "execution_count": 31,
   "metadata": {
    "collapsed": false
   },
   "outputs": [],
   "source": [
    "import numpy as np\n",
    "\n",
    "voc_name = ['aeroplane', 'bicycle', 'bird', 'boat', 'bottle', 'bus', 'car', 'cat', 'chair',\n",
    "             'cow', 'diningtable', 'dog', 'horse', 'motorbike', 'person', 'pottedplant',\n",
    "             'sheep', 'sofa', 'train', 'tvmonitor']\n",
    "\n",
    "test_list, ts_fl_to_featmap_index = get_data_pairs_list(0)"
   ]
  },
  {
   "cell_type": "code",
   "execution_count": 34,
   "metadata": {
    "collapsed": false
   },
   "outputs": [],
   "source": [
    "total_objs = np.zeros((20))    \n",
    "#print ts_fl_to_featmap_index\n",
    "\n",
    "count = 0\n",
    "for curr_entry in test_list: \n",
    "    cat = curr_entry['category_num'] #cat_name = curr_entry['cat_type']     #cat = voc_name.index(cat_name)  \n",
    "    num = curr_entry['boxes_num']\n",
    "    \n",
    "    #total_objs[cat] += num   "
   ]
  },
  {
   "cell_type": "code",
   "execution_count": 38,
   "metadata": {
    "collapsed": false
   },
   "outputs": [
    {
     "ename": "IOError",
     "evalue": "[Errno 2] No such file or directory: 'Youtube/omp4_det_test_results//comp4_det_test_aeroplane.txt'",
     "output_type": "error",
     "traceback": [
      "\u001b[1;31m---------------------------------------------------------------------------\u001b[0m",
      "\u001b[1;31mIOError\u001b[0m                                   Traceback (most recent call last)",
      "\u001b[1;32m<ipython-input-38-1f2008e21470>\u001b[0m in \u001b[0;36m<module>\u001b[1;34m()\u001b[0m\n\u001b[0;32m      9\u001b[0m     \u001b[0mtext_file\u001b[0m \u001b[1;33m=\u001b[0m \u001b[0mbase_gt_folder\u001b[0m \u001b[1;33m+\u001b[0m \u001b[1;34m'/comp4_det_test_'\u001b[0m \u001b[1;33m+\u001b[0m \u001b[0mcat_name\u001b[0m \u001b[1;33m+\u001b[0m \u001b[1;34m'.txt'\u001b[0m\u001b[1;33m\u001b[0m\u001b[0m\n\u001b[0;32m     10\u001b[0m \u001b[1;33m\u001b[0m\u001b[0m\n\u001b[1;32m---> 11\u001b[1;33m     \u001b[1;32mwith\u001b[0m \u001b[0mopen\u001b[0m\u001b[1;33m(\u001b[0m\u001b[0mtext_file\u001b[0m\u001b[1;33m)\u001b[0m \u001b[1;32mas\u001b[0m \u001b[0mf\u001b[0m\u001b[1;33m:\u001b[0m\u001b[1;33m\u001b[0m\u001b[0m\n\u001b[0m\u001b[0;32m     12\u001b[0m         \u001b[1;32mfor\u001b[0m \u001b[0mline\u001b[0m \u001b[1;32min\u001b[0m \u001b[0mf\u001b[0m\u001b[1;33m:\u001b[0m\u001b[1;33m\u001b[0m\u001b[0m\n\u001b[0;32m     13\u001b[0m             \u001b[1;32mprint\u001b[0m \u001b[0mline\u001b[0m\u001b[1;33m\u001b[0m\u001b[0m\n",
      "\u001b[1;31mIOError\u001b[0m: [Errno 2] No such file or directory: 'Youtube/omp4_det_test_results//comp4_det_test_aeroplane.txt'"
     ]
    }
   ],
   "source": [
    "true_objs = np.zeros((20))    \n",
    "#print ts_fl_to_featmap_index\n",
    "\n",
    "count = 0\n",
    "base_gt_folder = 'Youtube/comp4_det_test_results/'\n",
    "\n",
    "for cat_name in voc_name:\n",
    "    \n",
    "    text_file = base_gt_folder + 'comp4_det_test_' + cat_name + '.txt'\n",
    "    \n",
    "    with open(text_file) as f:\n",
    "        for line in f:\n",
    "            #print line\n",
    "            elems = line.split(' ')\n",
    "        \n",
    "            test_id = elems[0]\n",
    "            conf    = elems[1]\n",
    "            boxx    = elems[2]\n",
    "            boxy    = elems[3]\n",
    "            boxw    = elems[4]\n",
    "            boxh    = elems[5]\n",
    "    \n",
    "    \n",
    "    \n",
    "    #total_objs[cat] += num   "
   ]
  },
  {
   "cell_type": "code",
   "execution_count": 1,
   "metadata": {
    "collapsed": false
   },
   "outputs": [
    {
     "name": "stdout",
     "output_type": "stream",
     "text": [
      "1\n"
     ]
    }
   ],
   "source": []
  },
  {
   "cell_type": "code",
   "execution_count": null,
   "metadata": {
    "collapsed": true
   },
   "outputs": [],
   "source": []
  }
 ],
 "metadata": {
  "kernelspec": {
   "display_name": "Python 2",
   "language": "python",
   "name": "python2"
  },
  "language_info": {
   "codemirror_mode": {
    "name": "ipython",
    "version": 2
   },
   "file_extension": ".py",
   "mimetype": "text/x-python",
   "name": "python",
   "nbconvert_exporter": "python",
   "pygments_lexer": "ipython2",
   "version": "2.7.11"
  }
 },
 "nbformat": 4,
 "nbformat_minor": 0
}
